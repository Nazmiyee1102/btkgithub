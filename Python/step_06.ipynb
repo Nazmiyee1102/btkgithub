{
 "cells": [
  {
   "cell_type": "code",
   "execution_count": 8,
   "metadata": {},
   "outputs": [],
   "source": [
    "class Product:\n",
    "    def __init__(self,name:str=\"Default\",price:float=0,quantity:int=1)-> None:\n",
    "        print(f\"An instance with name : {name}, price : {price}, quantity : {quantity} has been drived from Product class.\")\n",
    "        self.__name = name\n",
    "        self.__price = price\n",
    "        self.__quantity = quantity\n",
    "        \n",
    "        #get işlemi\n",
    "        @property\n",
    "        def name(self):\n",
    "            return self.__name\n",
    "        \n",
    "        def price(self):\n",
    "            return self.__price\n",
    "        \n",
    "        def quantity(self):\n",
    "            return self.__quantity\n",
    "        \n",
    "        #set işlemi None geriye bir şey döndürmeyeceğini söyler\n",
    "        @name.setter\n",
    "        def name(self, value:str) -> None:\n",
    "            self.__name = value\n",
    "            \n",
    "        @price.setter\n",
    "        def price(self, value):\n",
    "            self.__price = value\n",
    "            \n",
    "        @quantity.setter\n",
    "        def quantity(self,value):\n",
    "            self.__quantity = value\n",
    "            \n",
    "                             #geriye float dönecek\n",
    "    def get_total_price(self)->float:\n",
    "        return self.__price * self.__quantity"
   ]
  },
  {
   "cell_type": "code",
   "execution_count": 9,
   "metadata": {},
   "outputs": [
    {
     "name": "stdout",
     "output_type": "stream",
     "text": [
      "An instance with name : Default, price : 0, quantity : 1 has been drived from Product class.\n"
     ]
    },
    {
     "ename": "AttributeError",
     "evalue": "'function' object has no attribute 'setter'",
     "output_type": "error",
     "traceback": [
      "\u001b[1;31m---------------------------------------------------------------------------\u001b[0m",
      "\u001b[1;31mAttributeError\u001b[0m                            Traceback (most recent call last)",
      "Cell \u001b[1;32mIn[9], line 1\u001b[0m\n\u001b[1;32m----> 1\u001b[0m item \u001b[38;5;241m=\u001b[39m \u001b[43mProduct\u001b[49m\u001b[43m(\u001b[49m\u001b[43m)\u001b[49m\n\u001b[0;32m      2\u001b[0m item\u001b[38;5;241m.\u001b[39m__name \u001b[38;5;241m=\u001b[39m \u001b[38;5;124m\"\u001b[39m\u001b[38;5;124mAsus\u001b[39m\u001b[38;5;124m\"\u001b[39m\n\u001b[0;32m      3\u001b[0m item\u001b[38;5;241m.\u001b[39m__price \u001b[38;5;241m=\u001b[39m \u001b[38;5;241m45000\u001b[39m\n",
      "Cell \u001b[1;32mIn[8], line 24\u001b[0m, in \u001b[0;36mProduct.__init__\u001b[1;34m(self, name, price, quantity)\u001b[0m\n\u001b[0;32m     20\u001b[0m \u001b[38;5;129m@name\u001b[39m\u001b[38;5;241m.\u001b[39msetter\n\u001b[0;32m     21\u001b[0m \u001b[38;5;28;01mdef\u001b[39;00m \u001b[38;5;21mname\u001b[39m(\u001b[38;5;28mself\u001b[39m, value:\u001b[38;5;28mstr\u001b[39m) \u001b[38;5;241m-\u001b[39m\u001b[38;5;241m>\u001b[39m \u001b[38;5;28;01mNone\u001b[39;00m:\n\u001b[0;32m     22\u001b[0m     \u001b[38;5;28mself\u001b[39m\u001b[38;5;241m.\u001b[39m__name \u001b[38;5;241m=\u001b[39m value\n\u001b[1;32m---> 24\u001b[0m \u001b[38;5;129m@price\u001b[39m\u001b[38;5;241;43m.\u001b[39;49m\u001b[43msetter\u001b[49m\n\u001b[0;32m     25\u001b[0m \u001b[38;5;28;01mdef\u001b[39;00m \u001b[38;5;21mprice\u001b[39m(\u001b[38;5;28mself\u001b[39m, value):\n\u001b[0;32m     26\u001b[0m     \u001b[38;5;28mself\u001b[39m\u001b[38;5;241m.\u001b[39m__price \u001b[38;5;241m=\u001b[39m value\n\u001b[0;32m     28\u001b[0m \u001b[38;5;129m@quantity\u001b[39m\u001b[38;5;241m.\u001b[39msetter\n\u001b[0;32m     29\u001b[0m \u001b[38;5;28;01mdef\u001b[39;00m \u001b[38;5;21mquantity\u001b[39m(\u001b[38;5;28mself\u001b[39m,value):\n",
      "\u001b[1;31mAttributeError\u001b[0m: 'function' object has no attribute 'setter'"
     ]
    }
   ],
   "source": [
    "item = Product()\n",
    "item.__name = \"Asus\"\n",
    "item.__price = 45000\n",
    "item.__quantity = 5\n",
    "\n",
    "print(item.__name)\n",
    "print(item.__price)\n",
    "print(item.__quantity)\n",
    "print(item.get_total_price(item.price, item.quantity))"
   ]
  }
 ],
 "metadata": {
  "kernelspec": {
   "display_name": "Python 3",
   "language": "python",
   "name": "python3"
  },
  "language_info": {
   "codemirror_mode": {
    "name": "ipython",
    "version": 3
   },
   "file_extension": ".py",
   "mimetype": "text/x-python",
   "name": "python",
   "nbconvert_exporter": "python",
   "pygments_lexer": "ipython3",
   "version": "3.13.1"
  }
 },
 "nbformat": 4,
 "nbformat_minor": 2
}
