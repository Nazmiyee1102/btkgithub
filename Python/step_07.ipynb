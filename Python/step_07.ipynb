{
 "cells": [
  {
   "cell_type": "code",
   "execution_count": 7,
   "metadata": {},
   "outputs": [],
   "source": [
    "class Product():\n",
    "    def __init__(self,name:str=\"Default\",price:float=0,quantity:int=1)-> None:\n",
    "        print(f\"An instance with name : {name}, price : {price}, quantity : {quantity} has been drived from Product class.\")\n",
    "        self.__name = name\n",
    "        self.__price = price\n",
    "        self.__quantity = quantity\n",
    "        \n",
    "        #get işlemi\n",
    "        @property\n",
    "        def name(self):\n",
    "            return self.__name\n",
    "        \n",
    "        def price(self):\n",
    "            return self.__price\n",
    "        \n",
    "        def quantity(self):\n",
    "            return self.__quantity\n",
    "        \n",
    "        #set işlemi None geriye bir şey döndürmeyeceğini söyler\n",
    "        @name.setter\n",
    "        def name(self, value:str) -> None:\n",
    "            self.__name = value\n",
    "            \n",
    "        @price.setter\n",
    "        def price(self, value):\n",
    "            self.__price = value\n",
    "            \n",
    "        @quantity.setter\n",
    "        def quantity(self,value):\n",
    "            self.__quantity = value\n",
    "            \n",
    "                             #geriye float dönecek\n",
    "    def get_total_price(self)->float:\n",
    "        return self.__price * self.__quantity\n",
    "    \n",
    "    \n",
    "    def __repr__(self):\n",
    "        return f\"{self.__name} - {self.__price} - {self.__quantity}\""
   ]
  },
  {
   "cell_type": "code",
   "execution_count": null,
   "metadata": {},
   "outputs": [],
   "source": [
    "item = Product()\n",
    "item.name = \"Asus\"\n",
    "\n",
    "print(item)\n"
   ]
  }
 ],
 "metadata": {
  "kernelspec": {
   "display_name": "Python 3",
   "language": "python",
   "name": "python3"
  },
  "language_info": {
   "codemirror_mode": {
    "name": "ipython",
    "version": 3
   },
   "file_extension": ".py",
   "mimetype": "text/x-python",
   "name": "python",
   "nbconvert_exporter": "python",
   "pygments_lexer": "ipython3",
   "version": "3.13.1"
  }
 },
 "nbformat": 4,
 "nbformat_minor": 2
}
