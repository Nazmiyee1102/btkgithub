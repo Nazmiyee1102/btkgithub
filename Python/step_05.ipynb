{
 "cells": [
  {
   "cell_type": "code",
   "execution_count": 16,
   "metadata": {},
   "outputs": [],
   "source": [
    "class Product:\n",
    "    def __init__(self,name,price,quantity):\n",
    "        print(f\"An instance with name : {name}, price : {price}, quantity : {quantity} has been drived from Product class.\")\n",
    "        self.__name = name\n",
    "        self.__price = price\n",
    "        self.__quantity = quantity\n",
    "        \n",
    "        #get işlemi\n",
    "        @property\n",
    "        def name(self):\n",
    "            return self.__name\n",
    "        \n",
    "        def price(self):\n",
    "            return self.__price\n",
    "        \n",
    "        def quantity(self):\n",
    "            return self.__quantity\n",
    "        \n",
    "        #set işlemi\n",
    "        @name.setter\n",
    "        def name(self, value) :\n",
    "            self.__name = value\n",
    "            \n",
    "        @price.setter\n",
    "        def price(self, value):\n",
    "            self.__price = value\n",
    "            \n",
    "        @quantity.setter\n",
    "        def quantity(self,value):\n",
    "            self.__quantity = value"
   ]
  },
  {
   "cell_type": "code",
   "execution_count": null,
   "metadata": {},
   "outputs": [],
   "source": [
    "item = Product(\"Asus\",4500,5)\n",
    "item.name = \"Asus\"\n",
    "item.price = 45000\n",
    "item.quantity = 5\n",
    "\n",
    "print(item.name)\n",
    "print(item.price)\n",
    "print(item.quantity)"
   ]
  }
 ],
 "metadata": {
  "kernelspec": {
   "display_name": "Python 3",
   "language": "python",
   "name": "python3"
  },
  "language_info": {
   "codemirror_mode": {
    "name": "ipython",
    "version": 3
   },
   "file_extension": ".py",
   "mimetype": "text/x-python",
   "name": "python",
   "nbconvert_exporter": "python",
   "pygments_lexer": "ipython3",
   "version": "3.13.1"
  }
 },
 "nbformat": 4,
 "nbformat_minor": 2
}
